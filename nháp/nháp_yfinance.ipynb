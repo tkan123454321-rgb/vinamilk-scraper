{
 "cells": [
  {
   "cell_type": "code",
   "execution_count": null,
   "id": "21e6c964",
   "metadata": {},
   "outputs": [],
   "source": []
  }
 ],
 "metadata": {
  "kernelspec": {
   "display_name": "my_python_env (3.13.7)",
   "language": "python",
   "name": "python3"
  },
  "language_info": {
   "name": "python",
   "version": "3.13.7"
  }
 },
 "nbformat": 4,
 "nbformat_minor": 5
}
