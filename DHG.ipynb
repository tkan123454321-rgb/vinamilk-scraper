{
 "cells": [],
 "metadata": {
  "kernelspec": {
   "display_name": "my_python_env (3.13.7)",
   "language": "python",
   "name": "python3"
  },
  "language_info": {
   "name": "python",
   "version": "3.13.7"
  }
 },
 "nbformat": 4,
 "nbformat_minor": 5
}
